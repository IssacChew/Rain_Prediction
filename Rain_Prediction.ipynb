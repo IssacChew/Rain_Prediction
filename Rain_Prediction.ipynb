{
  "nbformat": 4,
  "nbformat_minor": 0,
  "metadata": {
    "colab": {
      "name": "Rain_Prediction.ipynb",
      "provenance": [],
      "authorship_tag": "ABX9TyM9tHpLKzvoeDP42VKcp7z4",
      "include_colab_link": true
    },
    "kernelspec": {
      "name": "python3",
      "display_name": "Python 3"
    },
    "language_info": {
      "name": "python"
    }
  },
  "cells": [
    {
      "cell_type": "markdown",
      "metadata": {
        "id": "view-in-github",
        "colab_type": "text"
      },
      "source": [
        "<a href=\"https://colab.research.google.com/github/Shuhxian/Rain_Prediction/blob/main/Rain_Prediction.ipynb\" target=\"_parent\"><img src=\"https://colab.research.google.com/assets/colab-badge.svg\" alt=\"Open In Colab\"/></a>"
      ]
    },
    {
      "cell_type": "code",
      "execution_count": 1,
      "metadata": {
        "colab": {
          "base_uri": "https://localhost:8080/"
        },
        "id": "uAjxLzAJAzSG",
        "outputId": "f906a667-71b4-4cff-fbb4-7acb2fee95e4"
      },
      "outputs": [
        {
          "output_type": "stream",
          "name": "stdout",
          "text": [
            "Collecting scikit-fuzzy\n",
            "  Downloading scikit-fuzzy-0.4.2.tar.gz (993 kB)\n",
            "\u001b[?25l\r\u001b[K     |▎                               | 10 kB 20.0 MB/s eta 0:00:01\r\u001b[K     |▋                               | 20 kB 26.9 MB/s eta 0:00:01\r\u001b[K     |█                               | 30 kB 16.6 MB/s eta 0:00:01\r\u001b[K     |█▎                              | 40 kB 11.8 MB/s eta 0:00:01\r\u001b[K     |█▋                              | 51 kB 7.7 MB/s eta 0:00:01\r\u001b[K     |██                              | 61 kB 8.2 MB/s eta 0:00:01\r\u001b[K     |██▎                             | 71 kB 6.4 MB/s eta 0:00:01\r\u001b[K     |██▋                             | 81 kB 7.1 MB/s eta 0:00:01\r\u001b[K     |███                             | 92 kB 6.6 MB/s eta 0:00:01\r\u001b[K     |███▎                            | 102 kB 7.2 MB/s eta 0:00:01\r\u001b[K     |███▋                            | 112 kB 7.2 MB/s eta 0:00:01\r\u001b[K     |████                            | 122 kB 7.2 MB/s eta 0:00:01\r\u001b[K     |████▎                           | 133 kB 7.2 MB/s eta 0:00:01\r\u001b[K     |████▋                           | 143 kB 7.2 MB/s eta 0:00:01\r\u001b[K     |█████                           | 153 kB 7.2 MB/s eta 0:00:01\r\u001b[K     |█████▎                          | 163 kB 7.2 MB/s eta 0:00:01\r\u001b[K     |█████▋                          | 174 kB 7.2 MB/s eta 0:00:01\r\u001b[K     |██████                          | 184 kB 7.2 MB/s eta 0:00:01\r\u001b[K     |██████▎                         | 194 kB 7.2 MB/s eta 0:00:01\r\u001b[K     |██████▋                         | 204 kB 7.2 MB/s eta 0:00:01\r\u001b[K     |███████                         | 215 kB 7.2 MB/s eta 0:00:01\r\u001b[K     |███████▎                        | 225 kB 7.2 MB/s eta 0:00:01\r\u001b[K     |███████▋                        | 235 kB 7.2 MB/s eta 0:00:01\r\u001b[K     |████████                        | 245 kB 7.2 MB/s eta 0:00:01\r\u001b[K     |████████▎                       | 256 kB 7.2 MB/s eta 0:00:01\r\u001b[K     |████████▋                       | 266 kB 7.2 MB/s eta 0:00:01\r\u001b[K     |█████████                       | 276 kB 7.2 MB/s eta 0:00:01\r\u001b[K     |█████████▎                      | 286 kB 7.2 MB/s eta 0:00:01\r\u001b[K     |█████████▋                      | 296 kB 7.2 MB/s eta 0:00:01\r\u001b[K     |██████████                      | 307 kB 7.2 MB/s eta 0:00:01\r\u001b[K     |██████████▏                     | 317 kB 7.2 MB/s eta 0:00:01\r\u001b[K     |██████████▌                     | 327 kB 7.2 MB/s eta 0:00:01\r\u001b[K     |██████████▉                     | 337 kB 7.2 MB/s eta 0:00:01\r\u001b[K     |███████████▏                    | 348 kB 7.2 MB/s eta 0:00:01\r\u001b[K     |███████████▌                    | 358 kB 7.2 MB/s eta 0:00:01\r\u001b[K     |███████████▉                    | 368 kB 7.2 MB/s eta 0:00:01\r\u001b[K     |████████████▏                   | 378 kB 7.2 MB/s eta 0:00:01\r\u001b[K     |████████████▌                   | 389 kB 7.2 MB/s eta 0:00:01\r\u001b[K     |████████████▉                   | 399 kB 7.2 MB/s eta 0:00:01\r\u001b[K     |█████████████▏                  | 409 kB 7.2 MB/s eta 0:00:01\r\u001b[K     |█████████████▌                  | 419 kB 7.2 MB/s eta 0:00:01\r\u001b[K     |█████████████▉                  | 430 kB 7.2 MB/s eta 0:00:01\r\u001b[K     |██████████████▏                 | 440 kB 7.2 MB/s eta 0:00:01\r\u001b[K     |██████████████▌                 | 450 kB 7.2 MB/s eta 0:00:01\r\u001b[K     |██████████████▉                 | 460 kB 7.2 MB/s eta 0:00:01\r\u001b[K     |███████████████▏                | 471 kB 7.2 MB/s eta 0:00:01\r\u001b[K     |███████████████▌                | 481 kB 7.2 MB/s eta 0:00:01\r\u001b[K     |███████████████▉                | 491 kB 7.2 MB/s eta 0:00:01\r\u001b[K     |████████████████▏               | 501 kB 7.2 MB/s eta 0:00:01\r\u001b[K     |████████████████▌               | 512 kB 7.2 MB/s eta 0:00:01\r\u001b[K     |████████████████▉               | 522 kB 7.2 MB/s eta 0:00:01\r\u001b[K     |█████████████████▏              | 532 kB 7.2 MB/s eta 0:00:01\r\u001b[K     |█████████████████▌              | 542 kB 7.2 MB/s eta 0:00:01\r\u001b[K     |█████████████████▉              | 552 kB 7.2 MB/s eta 0:00:01\r\u001b[K     |██████████████████▏             | 563 kB 7.2 MB/s eta 0:00:01\r\u001b[K     |██████████████████▌             | 573 kB 7.2 MB/s eta 0:00:01\r\u001b[K     |██████████████████▉             | 583 kB 7.2 MB/s eta 0:00:01\r\u001b[K     |███████████████████▏            | 593 kB 7.2 MB/s eta 0:00:01\r\u001b[K     |███████████████████▌            | 604 kB 7.2 MB/s eta 0:00:01\r\u001b[K     |███████████████████▉            | 614 kB 7.2 MB/s eta 0:00:01\r\u001b[K     |████████████████████            | 624 kB 7.2 MB/s eta 0:00:01\r\u001b[K     |████████████████████▍           | 634 kB 7.2 MB/s eta 0:00:01\r\u001b[K     |████████████████████▊           | 645 kB 7.2 MB/s eta 0:00:01\r\u001b[K     |█████████████████████           | 655 kB 7.2 MB/s eta 0:00:01\r\u001b[K     |█████████████████████▍          | 665 kB 7.2 MB/s eta 0:00:01\r\u001b[K     |█████████████████████▊          | 675 kB 7.2 MB/s eta 0:00:01\r\u001b[K     |██████████████████████          | 686 kB 7.2 MB/s eta 0:00:01\r\u001b[K     |██████████████████████▍         | 696 kB 7.2 MB/s eta 0:00:01\r\u001b[K     |██████████████████████▊         | 706 kB 7.2 MB/s eta 0:00:01\r\u001b[K     |███████████████████████         | 716 kB 7.2 MB/s eta 0:00:01\r\u001b[K     |███████████████████████▍        | 727 kB 7.2 MB/s eta 0:00:01\r\u001b[K     |███████████████████████▊        | 737 kB 7.2 MB/s eta 0:00:01\r\u001b[K     |████████████████████████        | 747 kB 7.2 MB/s eta 0:00:01\r\u001b[K     |████████████████████████▍       | 757 kB 7.2 MB/s eta 0:00:01\r\u001b[K     |████████████████████████▊       | 768 kB 7.2 MB/s eta 0:00:01\r\u001b[K     |█████████████████████████       | 778 kB 7.2 MB/s eta 0:00:01\r\u001b[K     |█████████████████████████▍      | 788 kB 7.2 MB/s eta 0:00:01\r\u001b[K     |█████████████████████████▊      | 798 kB 7.2 MB/s eta 0:00:01\r\u001b[K     |██████████████████████████      | 808 kB 7.2 MB/s eta 0:00:01\r\u001b[K     |██████████████████████████▍     | 819 kB 7.2 MB/s eta 0:00:01\r\u001b[K     |██████████████████████████▊     | 829 kB 7.2 MB/s eta 0:00:01\r\u001b[K     |███████████████████████████     | 839 kB 7.2 MB/s eta 0:00:01\r\u001b[K     |███████████████████████████▍    | 849 kB 7.2 MB/s eta 0:00:01\r\u001b[K     |███████████████████████████▊    | 860 kB 7.2 MB/s eta 0:00:01\r\u001b[K     |████████████████████████████    | 870 kB 7.2 MB/s eta 0:00:01\r\u001b[K     |████████████████████████████▍   | 880 kB 7.2 MB/s eta 0:00:01\r\u001b[K     |████████████████████████████▊   | 890 kB 7.2 MB/s eta 0:00:01\r\u001b[K     |█████████████████████████████   | 901 kB 7.2 MB/s eta 0:00:01\r\u001b[K     |█████████████████████████████▍  | 911 kB 7.2 MB/s eta 0:00:01\r\u001b[K     |█████████████████████████████▊  | 921 kB 7.2 MB/s eta 0:00:01\r\u001b[K     |██████████████████████████████  | 931 kB 7.2 MB/s eta 0:00:01\r\u001b[K     |██████████████████████████████▎ | 942 kB 7.2 MB/s eta 0:00:01\r\u001b[K     |██████████████████████████████▋ | 952 kB 7.2 MB/s eta 0:00:01\r\u001b[K     |███████████████████████████████ | 962 kB 7.2 MB/s eta 0:00:01\r\u001b[K     |███████████████████████████████▎| 972 kB 7.2 MB/s eta 0:00:01\r\u001b[K     |███████████████████████████████▋| 983 kB 7.2 MB/s eta 0:00:01\r\u001b[K     |████████████████████████████████| 993 kB 7.2 MB/s eta 0:00:01\r\u001b[K     |████████████████████████████████| 993 kB 7.2 MB/s \n",
            "\u001b[?25hRequirement already satisfied: numpy>=1.6.0 in /usr/local/lib/python3.7/dist-packages (from scikit-fuzzy) (1.19.5)\n",
            "Requirement already satisfied: scipy>=0.9.0 in /usr/local/lib/python3.7/dist-packages (from scikit-fuzzy) (1.4.1)\n",
            "Requirement already satisfied: networkx>=1.9.0 in /usr/local/lib/python3.7/dist-packages (from scikit-fuzzy) (2.6.3)\n",
            "Building wheels for collected packages: scikit-fuzzy\n",
            "  Building wheel for scikit-fuzzy (setup.py) ... \u001b[?25l\u001b[?25hdone\n",
            "  Created wheel for scikit-fuzzy: filename=scikit_fuzzy-0.4.2-py3-none-any.whl size=894089 sha256=c50609c3bb50d47cffae75fab946b5e6001e1342b43ccb79bfab5d3d18591c3f\n",
            "  Stored in directory: /root/.cache/pip/wheels/d5/74/fc/38588a3d2e3f34f74588e6daa3aa5b0a322bd6f9420a707131\n",
            "Successfully built scikit-fuzzy\n",
            "Installing collected packages: scikit-fuzzy\n",
            "Successfully installed scikit-fuzzy-0.4.2\n"
          ]
        }
      ],
      "source": [
        "!pip install scikit-fuzzy"
      ]
    },
    {
      "cell_type": "code",
      "source": [
        "!git clone https://github.com/Shuhxian/Rain_Prediction.git"
      ],
      "metadata": {
        "colab": {
          "base_uri": "https://localhost:8080/"
        },
        "id": "A9aumU5pBJKC",
        "outputId": "6c126eca-b300-42c6-ce3d-8255a626369f"
      },
      "execution_count": 2,
      "outputs": [
        {
          "output_type": "stream",
          "name": "stdout",
          "text": [
            "Cloning into 'Rain_Prediction'...\n",
            "remote: Enumerating objects: 3, done.\u001b[K\n",
            "remote: Counting objects: 100% (3/3), done.\u001b[K\n",
            "remote: Total 3 (delta 0), reused 0 (delta 0), pack-reused 0\u001b[K\n",
            "Unpacking objects: 100% (3/3), done.\n"
          ]
        }
      ]
    },
    {
      "cell_type": "code",
      "source": [
        ""
      ],
      "metadata": {
        "id": "Wzu7Qqp8A2Zf"
      },
      "execution_count": null,
      "outputs": []
    }
  ]
}